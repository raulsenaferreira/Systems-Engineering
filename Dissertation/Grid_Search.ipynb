{
 "cells": [
  {
   "cell_type": "code",
   "execution_count": 1,
   "metadata": {},
   "outputs": [
    {
     "name": "stdout",
     "output_type": "stream",
     "text": [
      "99.8533333333\n",
      "{'K': 10, 'batches': 80, 'excludingPercentage': 0.65, 'sizeOfBatch': 150}\n",
      "86.5933333333\n",
      "{'K': 10, 'batches': 80, 'excludingPercentage': 0.95, 'sizeOfBatch': 150}\n"
     ]
    }
   ],
   "source": [
    "import sys\n",
    "import os\n",
    "import setup\n",
    "from methods import grid_selection_classifier\n",
    "from sklearn.model_selection import GridSearchCV\n",
    "\n",
    "\n",
    "\n",
    "def writeResults(datasetID, bestScore, bestParams):\n",
    "    file = open(\"results/gridsearch_selection.txt\",\"a\") \n",
    "    string = \"{}: {} using {} \\n\".format(datasetID, bestScore, bestParams)\n",
    "    file.write(string)\n",
    "    file.close() \n",
    "\n",
    "\n",
    "def main():\n",
    "    is_windows = sys.platform.startswith('win')\n",
    "    sep = '\\\\'\n",
    "    \n",
    "    if is_windows == False:\n",
    "        sep = '/'\n",
    "\n",
    "    path = os.getcwd()+sep+'data'+sep\n",
    "    \n",
    "    #loading a dataset\n",
    "    datasets = [setup.loadCDT(path, sep), setup.loadCHT(path, sep), setup.load2CDT(path, sep), setup.load2CHT(path, sep),\n",
    "               setup.load4CR(path, sep), setup.load4CRE_V1(path, sep), setup.load4CRE_V2(path, sep), setup.load5CVT(path, sep),\n",
    "               setup.loadCSurr(path, sep), setup.load4CE1CF(path, sep), setup.loadUG_2C_2D(path, sep), setup.loadMG_2C_2D(path, sep),\n",
    "               setup.loadFG_2C_2D(path, sep), setup.loadUG_2C_3D(path, sep), setup.loadUG_2C_5D(path, sep), setup.loadGEARS_2C_2D(path, sep),\n",
    "               setup.loadKeystroke(path, sep), setup.loadCheckerBoard(path, sep), setup.loadNOAADataset(path, sep), setup.loadElecData(path, sep)]\n",
    "    \n",
    "    #testing grid search\n",
    "    for i in range(len(datasets)):\n",
    "        dataValues, dataLabels, description = datasets[i]\n",
    "        sizes=[150]\n",
    "        batches=[100]\n",
    "        tuned_params = [{\"excludingPercentage\" : [0.95, 0.9, 0.85, 0.8, 0.75, 0.7, 0.65, 0.6, 0.55, 0.5], \"K\":[2, 3, 4, 5, 6, 7, 8, 9, 10, 11, 12], \"sizeOfBatch\":[150], \"batches\":[80]}]\n",
    "        gs = GridSearchCV(grid_selection_classifier.proposed_gmm_core_extraction(), tuned_params, cv=5)\n",
    "        gs.fit(dataValues, dataLabels)\n",
    "        print(gs.best_score_)\n",
    "        print(gs.best_params_)\n",
    "        writeResults(description, gs.best_score_, gs.best_params_)\n",
    "    \n",
    "if __name__ == \"__main__\":\n",
    "    main()\n"
   ]
  }
 ],
 "metadata": {
  "kernelspec": {
   "display_name": "Python 3",
   "language": "python",
   "name": "python3"
  },
  "language_info": {
   "codemirror_mode": {
    "name": "ipython",
    "version": 3
   },
   "file_extension": ".py",
   "mimetype": "text/x-python",
   "name": "python",
   "nbconvert_exporter": "python",
   "pygments_lexer": "ipython3",
   "version": "3.6.1"
  }
 },
 "nbformat": 4,
 "nbformat_minor": 2
}
