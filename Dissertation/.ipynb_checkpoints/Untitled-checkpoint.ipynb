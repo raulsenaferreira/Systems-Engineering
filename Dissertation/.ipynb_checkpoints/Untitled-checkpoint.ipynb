{
 "cells": [
  {
   "cell_type": "code",
   "execution_count": 1,
   "metadata": {},
   "outputs": [
    {
     "ename": "ImportError",
     "evalue": "cannot import name 'kmeans_svm'",
     "output_type": "error",
     "traceback": [
      "\u001b[1;31m---------------------------------------------------------------------------\u001b[0m",
      "\u001b[1;31mImportError\u001b[0m                               Traceback (most recent call last)",
      "\u001b[1;32m<ipython-input-1-8e8ed04ab176>\u001b[0m in \u001b[0;36m<module>\u001b[1;34m()\u001b[0m\n\u001b[0;32m      9\u001b[0m \u001b[1;32mfrom\u001b[0m \u001b[0msource\u001b[0m \u001b[1;32mimport\u001b[0m \u001b[0mmetrics\u001b[0m\u001b[1;33m\u001b[0m\u001b[0m\n\u001b[0;32m     10\u001b[0m \u001b[1;32mfrom\u001b[0m \u001b[0msource\u001b[0m \u001b[1;32mimport\u001b[0m \u001b[0mutil\u001b[0m\u001b[1;33m\u001b[0m\u001b[0m\n\u001b[1;32m---> 11\u001b[1;33m \u001b[1;32mfrom\u001b[0m \u001b[0mexperiments\u001b[0m\u001b[1;33m.\u001b[0m\u001b[0mmethods\u001b[0m \u001b[1;32mimport\u001b[0m \u001b[0mkmeans_svm\u001b[0m\u001b[1;33m\u001b[0m\u001b[0m\n\u001b[0m\u001b[0;32m     12\u001b[0m \u001b[1;32mfrom\u001b[0m \u001b[0mexperiments\u001b[0m\u001b[1;33m.\u001b[0m\u001b[0mmethods\u001b[0m \u001b[1;32mimport\u001b[0m \u001b[0mproposed_gmm_core_extraction\u001b[0m\u001b[1;33m\u001b[0m\u001b[0m\n\u001b[0;32m     13\u001b[0m \u001b[1;32mfrom\u001b[0m \u001b[0mexperiments\u001b[0m\u001b[1;33m.\u001b[0m\u001b[0mmethods\u001b[0m \u001b[1;32mimport\u001b[0m \u001b[0mimproved_intersection\u001b[0m\u001b[1;33m\u001b[0m\u001b[0m\n",
      "\u001b[1;31mImportError\u001b[0m: cannot import name 'kmeans_svm'"
     ]
    }
   ],
   "source": [
    "import sys\n",
    "import os\n",
    "from source import plotFunctions\n",
    "from timeit import default_timer as timer\n",
    "import pandas as pd\n",
    "import numpy as np\n",
    "from experiments import setup\n",
    "from source import classifiers\n",
    "from source import metrics\n",
    "from source import util\n",
    "from experiments.methods import svm\n",
    "from experiments.methods import proposed_gmm_core_extraction\n",
    "from experiments.methods import improved_intersection\n",
    "from experiments.methods import compose\n",
    "from experiments.methods import raul_classifier\n",
    "from sklearn.grid_search import GridSearchCV\n",
    "#from hpsklearn import HyperoptEstimator, any_classifier\n",
    "#from hyperopt import tpe\n",
    "'''\n",
    "from experiments.methods import compose2\n",
    "from experiments.methods import compose3\n",
    "from experiments.methods import intersection\n",
    "'''\n",
    "\n",
    "def main():\n",
    "    is_windows = sys.platform.startswith('win')\n",
    "    sep = '\\\\'\n",
    "    \n",
    "    if is_windows == False:\n",
    "        sep = '/'\n",
    "\n",
    "    path = os.getcwd()+sep+'experiments'+sep+'data'+sep\n",
    "    \n",
    "    #loading a dataset\n",
    "    allDataSets = [setup.load2CDT, setup.loadCHT, setup.load2CDT, setup.load2CHT, setup.loadUG_2C_2D, setup.loadUG_2C_3D, setup.loadUG_2C_5D, setup.loadMG_2C_2D, setup.loadFG_2C_2D, setup.loadGEARS_2C_2D, setup.load4CR, setup.load4CE1CF, setup.loadCheckerBoard]\n",
    "    sizes=[200]\n",
    "    batches=[80]\n",
    "    #for d in range(len(allDataSets)):\n",
    "    dataValues, dataLabels, databaseName = allDataSets[0](path, sep)\n",
    "    raul = raul_classifier.raulClassifier()\n",
    "    #testing grid search\n",
    "    #, 0.9, 0.85, 0.8, 0.75, 0.7, 0.65\n",
    "    tuned_params = {\"excludingPercentage\" : [0.95, 0.7], \"clfName\":['cl', 'svm', 'rf'], \"sizeOfBatch\":[sizes[0]], \"batches\":[batches[0]]}\n",
    "    gs = GridSearchCV(raul, tuned_params)\n",
    "    gs.fit(dataValues, dataLabels)\n",
    "    output = '{} -- Best Score: {}, achieved with following parameters: {}.'.format(databaseName,gs.best_score_,gs.best_params_)\n",
    "    f = open('output'+sep+'gridsearch_selection.txt', 'a')\n",
    "    f.write(output)\n",
    "    f.close()\n",
    "    \n",
    "if __name__ == \"__main__\":\n",
    "    main()\n"
   ]
  }
 ],
 "metadata": {
  "kernelspec": {
   "display_name": "Python 3",
   "language": "python",
   "name": "python3"
  },
  "language_info": {
   "codemirror_mode": {
    "name": "ipython",
    "version": 3
   },
   "file_extension": ".py",
   "mimetype": "text/x-python",
   "name": "python",
   "nbconvert_exporter": "python",
   "pygments_lexer": "ipython3",
   "version": "3.6.1"
  }
 },
 "nbformat": 4,
 "nbformat_minor": 2
}
