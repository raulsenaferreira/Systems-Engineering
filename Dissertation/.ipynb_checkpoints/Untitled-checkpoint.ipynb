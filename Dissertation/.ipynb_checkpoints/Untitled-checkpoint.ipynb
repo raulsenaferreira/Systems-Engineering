{
 "cells": [
  {
   "cell_type": "code",
   "execution_count": null,
   "metadata": {
    "collapsed": true
   },
   "outputs": [],
   "source": [
    "import numpy as np\n",
    "import random\n",
    "import math\n",
    "import matplotlib.pyplot as plt\n",
    "import matplotlib.mlab as mlab\n",
    "from math import sqrt\n",
    "from numpy import zeros\n",
    "from numpy import numarray\n",
    "\n",
    "\n",
    "# generate sample points\n",
    "num_pts = 500\n",
    "sample_xs = np.random.uniform(0, 200, size=num_pts)\n",
    "sample_ys = np.random.uniform(0, 1, size=num_pts)\n",
    "\n",
    "# define distribution\n",
    "mean = 50\n",
    "sigma = 10\n",
    "\n",
    "# figure out \"normalized\" pdf vals at sample points\n",
    "max_pdf = mlab.normpdf(mean, mean, sigma)\n",
    "\n",
    "sample_pdf_vals = mlab.normpdf(sample_xs, mean, sigma) / max_pdf\n",
    "\n",
    "# which ones are under the curve?\n",
    "under_curve = sample_ys < sample_pdf_vals\n",
    "\n",
    "# get pdf vals to plot\n",
    "x = np.linspace(0, 200, 1000)\n",
    "pdf_vals = mlab.normpdf(x, mean, sigma) / max_pdf\n",
    "\n",
    "# plot the samples and the curve\n",
    "colors = np.array(['cyan' if b else 'red' for b in under_curve])\n",
    "fig = plt.figure()\n",
    "ax = fig.add_subplot(121)\n",
    "ax.scatter(sample_xs, sample_ys, c=colors)\n",
    "\n",
    "plt.plot(x, pdf_vals)\n",
    "plt.show()\n",
    "print(np.roots([sample_xs,sample_ys]))"
   ]
  }
 ],
 "metadata": {
  "kernelspec": {
   "display_name": "Python 3",
   "language": "python",
   "name": "python3"
  },
  "language_info": {
   "codemirror_mode": {
    "name": "ipython",
    "version": 3
   },
   "file_extension": ".py",
   "mimetype": "text/x-python",
   "name": "python",
   "nbconvert_exporter": "python",
   "pygments_lexer": "ipython3",
   "version": "3.6.0"
  }
 },
 "nbformat": 4,
 "nbformat_minor": 2
}
