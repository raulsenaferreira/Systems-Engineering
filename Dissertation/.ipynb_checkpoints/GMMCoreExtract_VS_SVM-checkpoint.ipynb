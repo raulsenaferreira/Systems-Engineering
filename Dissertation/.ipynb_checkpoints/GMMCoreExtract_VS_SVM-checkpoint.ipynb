{
 "cells": [
  {
   "cell_type": "code",
   "execution_count": 1,
   "metadata": {},
   "outputs": [
    {
     "ename": "TypeError",
     "evalue": "loadNOAADataset() missing 1 required positional argument: 'sep'",
     "output_type": "error",
     "traceback": [
      "\u001b[1;31m---------------------------------------------------------------------------\u001b[0m",
      "\u001b[1;31mTypeError\u001b[0m                                 Traceback (most recent call last)",
      "\u001b[1;32m<ipython-input-1-d8ba346d9f89>\u001b[0m in \u001b[0;36m<module>\u001b[1;34m()\u001b[0m\n\u001b[0;32m    106\u001b[0m \u001b[1;33m\u001b[0m\u001b[0m\n\u001b[0;32m    107\u001b[0m \u001b[1;32mif\u001b[0m \u001b[0m__name__\u001b[0m \u001b[1;33m==\u001b[0m \u001b[1;34m\"__main__\"\u001b[0m\u001b[1;33m:\u001b[0m\u001b[1;33m\u001b[0m\u001b[0m\n\u001b[1;32m--> 108\u001b[1;33m     \u001b[0mmain\u001b[0m\u001b[1;33m(\u001b[0m\u001b[1;33m)\u001b[0m\u001b[1;33m\u001b[0m\u001b[0m\n\u001b[0m",
      "\u001b[1;32m<ipython-input-1-d8ba346d9f89>\u001b[0m in \u001b[0;36mmain\u001b[1;34m()\u001b[0m\n\u001b[0;32m     84\u001b[0m \u001b[1;33m\u001b[0m\u001b[0m\n\u001b[0;32m     85\u001b[0m     \u001b[1;31m#loading a dataset\u001b[0m\u001b[1;33m\u001b[0m\u001b[1;33m\u001b[0m\u001b[0m\n\u001b[1;32m---> 86\u001b[1;33m     \u001b[0mdataValues\u001b[0m\u001b[1;33m,\u001b[0m \u001b[0mdataLabels\u001b[0m \u001b[1;33m=\u001b[0m \u001b[0msetup\u001b[0m\u001b[1;33m.\u001b[0m\u001b[0mloadNOAADataset\u001b[0m\u001b[1;33m(\u001b[0m\u001b[0mpath\u001b[0m\u001b[1;33m)\u001b[0m\u001b[1;33m\u001b[0m\u001b[0m\n\u001b[0m\u001b[0;32m     87\u001b[0m     \u001b[1;31m#dataValues, dataLabels = setup.load2CDT(path)\u001b[0m\u001b[1;33m\u001b[0m\u001b[1;33m\u001b[0m\u001b[0m\n\u001b[0;32m     88\u001b[0m \u001b[1;33m\u001b[0m\u001b[0m\n",
      "\u001b[1;31mTypeError\u001b[0m: loadNOAADataset() missing 1 required positional argument: 'sep'"
     ]
    }
   ],
   "source": [
    "import sys\n",
    "import os\n",
    "from source import plotFunctions\n",
    "from timeit import default_timer as timer\n",
    "import numpy as np\n",
    "from experiments import setup\n",
    "from source import metrics\n",
    "from experiments.methods import kmeans_svm\n",
    "from experiments.methods import proposed_gmm_core_extraction\n",
    "%matplotlib inline\n",
    "from ipywidgets import interact, interactive, fixed, interact_manual\n",
    "import ipywidgets as widgets\n",
    "from ipywidgets import interactive\n",
    "from IPython.display import Audio, display\n",
    "\n",
    "\n",
    "\n",
    "class Experiment():\n",
    "    def __init__(self, method):\n",
    "        #commom for all experiments\n",
    "        self.method = method\n",
    "        self.initialLabeledDataPerc=0.05\n",
    "        self.usePCA=False\n",
    "        #used only by gmm and cluster-label process\n",
    "        self.densityFunction='gmm'\n",
    "        self.excludingPercentage = 0.3\n",
    "        self.K = 5\n",
    "        self.classifier='cluster_and_label'\n",
    "        #used in alpha-shape version only\n",
    "        self.CP=0.65\n",
    "        self.alpha=0.5\n",
    "        #used in kmeans_svm and compose only\n",
    "        self.useSVM=False\n",
    "        self.isImbalanced=False\n",
    "\n",
    "\n",
    "def doExperiments(dataValues, dataLabels, experiments, numberOfTimes, batches):\n",
    "    sizeOfBatch = 365#int(len(dataLabels)/batches)\n",
    "    e.classes=set(dataLabels)    \n",
    "    for name, e in experiments.items():\n",
    "        CoreX = []\n",
    "        CoreY = []\n",
    "        elapsedTime = []\n",
    "        accTotal = []\n",
    "        accuracies=[]\n",
    "        e.sizeOfBatch = sizeOfBatch\n",
    "        e.batches = batches\n",
    "        e.dataLabels = dataLabels\n",
    "        e.dataValues = dataValues\n",
    "        \n",
    "        for i in range(numberOfTimes):\n",
    "            start = timer()\n",
    "            #accuracy per step\n",
    "            accuracies, CoreX, CoreY = e.method.start(dataValues=e.dataValues, dataLabels=e.dataLabels, usePCA=e.usePCA, classes=e.classes, classifier=e.classifier, densityFunction=e.densityFunction, batches=e.batches, sizeOfBatch = e.sizeOfBatch, initialLabeledDataPerc=e.initialLabeledDataPerc, excludingPercentage=e.excludingPercentage, K=e.K, CP=e.CP, alpha=e.alpha, useSVM=e.useSVM, isImbalanced=e.isImbalanced)\n",
    "            end = timer()\n",
    "            averageAccuracy = np.mean(accuracies)\n",
    "            \n",
    "            #elapsed time per step\n",
    "            elapsedTime.append(end - start)\n",
    "            \n",
    "            accTotal.append(averageAccuracy)\n",
    "        #print(\"Total of \", numberOfTimes, \" experiment iterations with an average accuracy of \", np.mean(accTotal))\n",
    "        \n",
    "        #print data distribution in step t\n",
    "        initial = (batches*sizeOfBatch)-sizeOfBatch\n",
    "        final = initial + sizeOfBatch\n",
    "        plotFunctions.plot(dataValues[initial:final], dataLabels[initial:final], CoreX, CoreY, batches)\n",
    "        print(\"\\n\\n\")\n",
    "        print(\"{} batches of {} instances\".format(batches, sizeOfBatch))\n",
    "        print(\"Average execution time: \", np.mean(elapsedTime))\n",
    "        metrics.finalEvaluation(accuracies)\n",
    "        \n",
    "\n",
    "def main():\n",
    "    experiments = {}\n",
    "    is_windows = sys.platform.startswith('win')\n",
    "    sep = '\\\\'\n",
    "    \n",
    "    if is_windows == False:\n",
    "        sep = '/'\n",
    "\n",
    "    path = os.getcwd()+sep+'experiments/data'+sep\n",
    "    \n",
    "    #loading a dataset\n",
    "    dataValues, dataLabels = setup.loadNOAADataset(path)\n",
    "    #dataValues, dataLabels = setup.load2CDT(path)\n",
    "        \n",
    "    '''\n",
    "    SVM Linear Kernel\n",
    "    '''\n",
    "    experiments[1] = Experiment(kmeans_svm)\n",
    "    \n",
    "    \n",
    "    ''' Proposed Method 1 (GMM extracting core supports) '''\n",
    "    experiments[2] = Experiment(proposed_gmm_core_extraction)\n",
    "    \n",
    "    \n",
    "    #running pywidget\n",
    "    def run(batches):\n",
    "        doExperiments(dataValues, dataLabels, experiments, 1, batches)\n",
    "        \n",
    "    v = interact(run, batches=(1, 40, 1));\n",
    "    display(v)\n",
    "\n",
    "    \n",
    "if __name__ == \"__main__\":\n",
    "    main()"
   ]
  }
 ],
 "metadata": {
  "kernelspec": {
   "display_name": "Python 3",
   "language": "python",
   "name": "python3"
  },
  "language_info": {
   "codemirror_mode": {
    "name": "ipython",
    "version": 3
   },
   "file_extension": ".py",
   "mimetype": "text/x-python",
   "name": "python",
   "nbconvert_exporter": "python",
   "pygments_lexer": "ipython3",
   "version": "3.6.1"
  },
  "widgets": {
   "state": {
    "2adeb28c9cd6479fb2f1046b0c0d8d02": {
     "views": [
      {
       "cell_index": 0
      }
     ]
    }
   },
   "version": "1.2.0"
  }
 },
 "nbformat": 4,
 "nbformat_minor": 2
}
