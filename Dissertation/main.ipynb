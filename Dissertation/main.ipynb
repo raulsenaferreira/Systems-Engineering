{
 "cells": [
  {
   "cell_type": "code",
   "execution_count": null,
   "metadata": {
    "collapsed": false
   },
   "outputs": [
    {
     "name": "stdout",
     "output_type": "stream",
     "text": [
      ">>>>> STARTING TEST with K-Means, Cluster and label as classifier and  gmm  as cutting data <<<<<\n"
     ]
    }
   ],
   "source": [
    "import os\n",
    "import pandas as pd\n",
    "from experiments import kmeans_svm\n",
    "from experiments import compose\n",
    "\n",
    "\n",
    "def main():\n",
    "    path = os.getcwd()+'\\\\data\\\\'\n",
    "    '''\n",
    "    Reading NOAA dataset:\n",
    "    Eight  features  (average temperature, minimum temperature, maximum temperature, dew\n",
    "    point,  sea  level  pressure,  visibility,  average wind speed, maximum  wind  speed)\n",
    "    are  used  to  determine  whether  each  day  experienced  rain  or no rain.\n",
    "    '''\n",
    "    dataValues = pd.read_csv(path+'noaa_data.csv',sep = \",\")\n",
    "    dataLabels = pd.read_csv(path+'noaa_label.csv',sep = \",\")\n",
    "    \n",
    "    #Test sets: Predicting 365 instances by step. 50 steps. Two classes.\n",
    "    ''' \n",
    "    Starting labeled data with 5% of 365 instances.\n",
    "    K-Means + GMM / KDE\n",
    "    '''\n",
    "    compose.compose(dataValues, dataLabels, 'gmm', excludingPercentage = 0.3)\n",
    "    \n",
    "    '''\n",
    "    K-Means / SVM\n",
    "    '''\n",
    "    kmeans_svm.kmeans_svm(dataValues, dataLabels, 'kmeans')\n",
    "    \n",
    "\n",
    "if __name__ == \"__main__\":\n",
    "    main()"
   ]
  }
 ],
 "metadata": {
  "kernelspec": {
   "display_name": "Python 3",
   "language": "python",
   "name": "python3"
  },
  "language_info": {
   "codemirror_mode": {
    "name": "ipython",
    "version": 3
   },
   "file_extension": ".py",
   "mimetype": "text/x-python",
   "name": "python",
   "nbconvert_exporter": "python",
   "pygments_lexer": "ipython3",
   "version": "3.6.0"
  }
 },
 "nbformat": 4,
 "nbformat_minor": 2
}
