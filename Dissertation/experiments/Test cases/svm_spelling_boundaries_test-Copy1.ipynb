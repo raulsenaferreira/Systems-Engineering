{
 "cells": [
  {
   "cell_type": "code",
   "execution_count": 1,
   "metadata": {},
   "outputs": [
    {
     "name": "stdout",
     "output_type": "stream",
     "text": [
      "(200, 2)\n",
      "Hellinger distance: 0.170720837141\n",
      "Percentage of difference between P and Q: 12.0717861632\n"
     ]
    }
   ],
   "source": [
    "import numpy as np\n",
    "import matplotlib.pyplot as plt\n",
    "import sys\n",
    "import os\n",
    "from pathlib import Path\n",
    "from scipy.spatial.distance import euclidean\n",
    "os.chdir(Path(os.getcwd()).resolve().parents[1])\n",
    "\n",
    "import matplotlib.pyplot as plt\n",
    "from matplotlib import animation\n",
    "from source import plotFunctions\n",
    "from timeit import default_timer as timer\n",
    "import numpy as np\n",
    "import setup\n",
    "\n",
    "experiments = {}\n",
    "is_windows = sys.platform.startswith('win')\n",
    "sep = '\\\\'\n",
    "\n",
    "if is_windows == False:\n",
    "    sep = '/'\n",
    "\n",
    "path = os.getcwd()+sep+'data'+sep\n",
    "\n",
    "steps = 100\n",
    "\n",
    "#sinthetic\n",
    "X, y, description = setup.loadCHT(path, sep)\n",
    "_SQRT2 = np.sqrt(2)\n",
    "def hellinger(p, q):\n",
    "    return euclidean(np.sqrt(p), np.sqrt(q)) / _SQRT2\n",
    "\n",
    "#hellinger(X[0:200], X[200:400])\n",
    "\n",
    "def hellinger2(p,q):\n",
    "    b = int(np.sqrt(len(p)))\n",
    "    \n",
    "    #Pjk = sum()\n",
    "    \n",
    "    \n",
    "\n",
    "A = X[0:200]\n",
    "B = X[100:400]\n",
    "res = []\n",
    "print(A.shape)\n",
    "\n",
    "for i in range(A.shape[1]):\n",
    "    P = A[:, i]\n",
    "    Q = B[:, i]\n",
    "    bins = int(np.sqrt(len(A)))\n",
    "    hA = np.histogram(P+(-np.min(P)), bins=bins)\n",
    "    hB = np.histogram(Q+(-np.min(Q)), bins=bins)\n",
    "    res.append(hellinger(hA[1], hB[1]))\n",
    "\n",
    "res = np.mean(res)\n",
    "x = np.sqrt(2)\n",
    "hpercentage = (100 * res)/x\n",
    "print(\"Hellinger distance:\",res)\n",
    "print(\"Percentage of difference between P and Q:\",hpercentage)\n",
    "#print(hA[1]/sum(hA[1]))\n",
    "#hB[1]"
   ]
  },
  {
   "cell_type": "code",
   "execution_count": null,
   "metadata": {
    "collapsed": true
   },
   "outputs": [],
   "source": []
  },
  {
   "cell_type": "code",
   "execution_count": null,
   "metadata": {
    "collapsed": true
   },
   "outputs": [],
   "source": []
  },
  {
   "cell_type": "code",
   "execution_count": null,
   "metadata": {
    "collapsed": true
   },
   "outputs": [],
   "source": []
  },
  {
   "cell_type": "code",
   "execution_count": null,
   "metadata": {
    "collapsed": true
   },
   "outputs": [],
   "source": []
  },
  {
   "cell_type": "code",
   "execution_count": null,
   "metadata": {
    "collapsed": true
   },
   "outputs": [],
   "source": []
  },
  {
   "cell_type": "code",
   "execution_count": null,
   "metadata": {},
   "outputs": [],
   "source": [
    "\n"
   ]
  }
 ],
 "metadata": {
  "kernelspec": {
   "display_name": "Python 3",
   "language": "python",
   "name": "python3"
  },
  "language_info": {
   "codemirror_mode": {
    "name": "ipython",
    "version": 3
   },
   "file_extension": ".py",
   "mimetype": "text/x-python",
   "name": "python",
   "nbconvert_exporter": "python",
   "pygments_lexer": "ipython3",
   "version": "3.6.1"
  }
 },
 "nbformat": 4,
 "nbformat_minor": 2
}
