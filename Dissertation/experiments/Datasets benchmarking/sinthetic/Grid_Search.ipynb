{
 "cells": [
  {
   "cell_type": "code",
   "execution_count": 1,
   "metadata": {},
   "outputs": [
    {
     "name": "stdout",
     "output_type": "stream",
     "text": [
      "One Class Diagonal Translation. 2 Dimensional data.: 100 batches of 159 instances\n",
      "99.8742138365\n",
      "{'K': 9, 'batches': 100, 'excludingPercentage': 0.65, 'sizeOfBatch': 159}\n",
      "One Class Horizontal Translation. 2 Dimensional data.: 100 batches of 159 instances\n",
      "99.3773584906\n",
      "{'K': 3, 'batches': 100, 'excludingPercentage': 0.75, 'sizeOfBatch': 159}\n"
     ]
    }
   ],
   "source": [
    "import sys\n",
    "import os\n",
    "import numpy as np\n",
    "from pathlib import Path\n",
    "os.chdir(Path(os.getcwd()).resolve().parents[2])\n",
    "import setup\n",
    "from methods import grid_selection_classifier\n",
    "from sklearn.model_selection import ParameterGrid\n",
    "\n",
    "\n",
    "\n",
    "def writeResults(datasetID, bestScore, bestParams):\n",
    "    file = open(\"results/gridsearch_selection.txt\",\"a\") \n",
    "    string = \"{}: {} using {} \\n\".format(datasetID, bestScore, bestParams)\n",
    "    file.write(string)\n",
    "    file.close() \n",
    "\n",
    "\n",
    "def main():\n",
    "    is_windows = sys.platform.startswith('win')\n",
    "    sep = '\\\\'\n",
    "    \n",
    "    if is_windows == False:\n",
    "        sep = '/'\n",
    "\n",
    "    path = os.getcwd()+sep+'data'+sep\n",
    "    \n",
    "    #loading a dataset\n",
    "    datasets = [setup.loadCDT, setup.loadCHT]\n",
    "    ''', setup.load2CDT(path, sep), setup.load2CHT(path, sep),\n",
    "               setup.load4CR(path, sep), setup.load4CRE_V1(path, sep), setup.load4CRE_V2(path, sep), setup.load5CVT(path, sep),\n",
    "               setup.loadCSurr(path, sep), setup.load4CE1CF(path, sep), setup.loadUG_2C_2D(path, sep), setup.loadMG_2C_2D(path, sep),\n",
    "               setup.loadFG_2C_2D(path, sep), setup.loadUG_2C_3D(path, sep), setup.loadUG_2C_5D(path, sep), setup.loadGEARS_2C_2D(path, sep),\n",
    "               setup.loadKeystroke(path, sep), setup.loadCheckerBoard(path, sep), setup.loadNOAADataset(path, sep), setup.loadElecData(path, sep)'''\n",
    "    batches=100\n",
    "    #testing grid search\n",
    "    for i in range(len(datasets)):\n",
    "        finalScore = 0\n",
    "        best_grid={}\n",
    "        dataValues, dataLabels, description = datasets[i](path, sep)\n",
    "        sizeOfBatch = int((len(dataValues)-50)/batches)\n",
    "        print(\"{}: 100 batches of {} instances\".format(description, sizeOfBatch))\n",
    "        tuned_params = [{\"excludingPercentage\" : [0.9, 0.85, 0.8, 0.75, 0.7, 0.65, 0.6, 0.55, 0.5], \"K\":[2, 3, 4, 5, 6, 7, 8, 9, 10, 11, 12], \"sizeOfBatch\":[sizeOfBatch], \"batches\":[batches]}]\n",
    "        \n",
    "        for g in ParameterGrid(tuned_params):\n",
    "            gs = grid_selection_classifier.proposed_gmm_core_extraction(**g)\n",
    "            gs.fit(dataValues, dataLabels)\n",
    "            averageAccuracy = np.mean(gs.predict())\n",
    "            if finalScore < averageAccuracy:\n",
    "                finalScore = averageAccuracy\n",
    "                best_grid = g\n",
    "        \n",
    "        print(finalScore)\n",
    "        print(best_grid)\n",
    "        \n",
    "        writeResults(description, finalScore, best_grid)\n",
    "    \n",
    "if __name__ == \"__main__\":\n",
    "    main()\n"
   ]
  }
 ],
 "metadata": {
  "kernelspec": {
   "display_name": "Python 3",
   "language": "python",
   "name": "python3"
  },
  "language_info": {
   "codemirror_mode": {
    "name": "ipython",
    "version": 3
   },
   "file_extension": ".py",
   "mimetype": "text/x-python",
   "name": "python",
   "nbconvert_exporter": "python",
   "pygments_lexer": "ipython3",
   "version": "3.6.1"
  }
 },
 "nbformat": 4,
 "nbformat_minor": 2
}
