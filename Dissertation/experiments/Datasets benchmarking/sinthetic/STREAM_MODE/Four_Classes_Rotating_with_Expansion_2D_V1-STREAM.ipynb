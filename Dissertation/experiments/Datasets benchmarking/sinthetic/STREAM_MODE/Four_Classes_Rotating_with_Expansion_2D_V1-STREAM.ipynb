{
 "cells": [
  {
   "cell_type": "code",
   "execution_count": 1,
   "metadata": {},
   "outputs": [
    {
     "name": "stdout",
     "output_type": "stream",
     "text": [
      "Results from SCARGC algorithm (for boxplot and accuracy timelime).\n",
      "Four Classes Rotating with Expansion V1. Bidimensional.\n",
      "100 batches of 1249 instances\n",
      "\n",
      "\n",
      "\n",
      "METHOD: LP as classifier and kde and Hellinger distance as dynamic CSE\n"
     ]
    },
    {
     "ename": "ValueError",
     "evalue": "multiclass is not supported",
     "output_type": "error",
     "traceback": [
      "\u001b[1;31m---------------------------------------------------------------------------\u001b[0m",
      "\u001b[1;31mValueError\u001b[0m                                Traceback (most recent call last)",
      "\u001b[1;32m<ipython-input-1-ccac4129a95b>\u001b[0m in \u001b[0;36m<module>\u001b[1;34m()\u001b[0m\n\u001b[0;32m    205\u001b[0m \u001b[1;33m\u001b[0m\u001b[0m\n\u001b[0;32m    206\u001b[0m \u001b[1;32mif\u001b[0m \u001b[0m__name__\u001b[0m \u001b[1;33m==\u001b[0m \u001b[1;34m\"__main__\"\u001b[0m\u001b[1;33m:\u001b[0m\u001b[1;33m\u001b[0m\u001b[0m\n\u001b[1;32m--> 207\u001b[1;33m     \u001b[0mmain\u001b[0m\u001b[1;33m(\u001b[0m\u001b[1;33m)\u001b[0m\u001b[1;33m\u001b[0m\u001b[0m\n\u001b[0m",
      "\u001b[1;32m<ipython-input-1-ccac4129a95b>\u001b[0m in \u001b[0;36mmain\u001b[1;34m()\u001b[0m\n\u001b[0;32m    200\u001b[0m \u001b[1;33m\u001b[0m\u001b[0m\n\u001b[0;32m    201\u001b[0m     \u001b[1;31m#params: X, y, method, num of experiment repetitions, num of batches\u001b[0m\u001b[1;33m\u001b[0m\u001b[1;33m\u001b[0m\u001b[0m\n\u001b[1;32m--> 202\u001b[1;33m     \u001b[0mdoExperiments\u001b[0m\u001b[1;33m(\u001b[0m\u001b[0mdataValues\u001b[0m\u001b[1;33m,\u001b[0m \u001b[0mdataLabels\u001b[0m\u001b[1;33m,\u001b[0m \u001b[0mdescription\u001b[0m\u001b[1;33m,\u001b[0m \u001b[0marrAccSCARGC\u001b[0m\u001b[1;33m,\u001b[0m \u001b[0mfinalAccSCARGC\u001b[0m\u001b[1;33m,\u001b[0m \u001b[0mpredictedSCARGC\u001b[0m\u001b[1;33m,\u001b[0m \u001b[0mexperiments\u001b[0m\u001b[1;33m,\u001b[0m \u001b[1;36m1\u001b[0m\u001b[1;33m,\u001b[0m \u001b[0msteps\u001b[0m\u001b[1;33m,\u001b[0m \u001b[0mlabeledData\u001b[0m\u001b[1;33m)\u001b[0m\u001b[1;33m\u001b[0m\u001b[0m\n\u001b[0m\u001b[0;32m    203\u001b[0m \u001b[1;33m\u001b[0m\u001b[0m\n\u001b[0;32m    204\u001b[0m \u001b[1;33m\u001b[0m\u001b[0m\n",
      "\u001b[1;32m<ipython-input-1-ccac4129a95b>\u001b[0m in \u001b[0;36mdoExperiments\u001b[1;34m(dataValues, dataLabels, datasetDescription, arrAccSCARGC, finalAccSCARGC, predictedSCARGC, experiments, numberOfTimes, batches, labeledData)\u001b[0m\n\u001b[0;32m     80\u001b[0m             \u001b[0maccTotal\u001b[0m\u001b[1;33m.\u001b[0m\u001b[0mappend\u001b[0m\u001b[1;33m(\u001b[0m\u001b[0maverageAccuracy\u001b[0m\u001b[1;33m)\u001b[0m\u001b[1;33m\u001b[0m\u001b[0m\n\u001b[0;32m     81\u001b[0m \u001b[1;33m\u001b[0m\u001b[0m\n\u001b[1;32m---> 82\u001b[1;33m         \u001b[0marrMCC\u001b[0m \u001b[1;33m=\u001b[0m \u001b[0mmetrics\u001b[0m\u001b[1;33m.\u001b[0m\u001b[0mmcc\u001b[0m\u001b[1;33m(\u001b[0m\u001b[0marrYt\u001b[0m\u001b[1;33m,\u001b[0m \u001b[0marrPredicted\u001b[0m\u001b[1;33m)\u001b[0m\u001b[1;33m\u001b[0m\u001b[0m\n\u001b[0m\u001b[0;32m     83\u001b[0m         \u001b[0mlistOfAccuracies\u001b[0m\u001b[1;33m.\u001b[0m\u001b[0mappend\u001b[0m\u001b[1;33m(\u001b[0m\u001b[0maccuracies\u001b[0m\u001b[1;33m)\u001b[0m\u001b[1;33m\u001b[0m\u001b[0m\n\u001b[0;32m     84\u001b[0m         \u001b[0mlistOfMethods\u001b[0m\u001b[1;33m.\u001b[0m\u001b[0mappend\u001b[0m\u001b[1;33m(\u001b[0m\u001b[0malgorithmName\u001b[0m\u001b[1;33m)\u001b[0m\u001b[1;33m\u001b[0m\u001b[0m\n",
      "\u001b[1;32mC:\\Users\\raul\\Documents\\Systems-Engineering-master\\Dissertation\\source\\metrics.py\u001b[0m in \u001b[0;36mmcc\u001b[1;34m(arr_y_true, arr_y_predicted)\u001b[0m\n\u001b[0;32m     33\u001b[0m         \u001b[1;32mfor\u001b[0m \u001b[0my_true\u001b[0m\u001b[1;33m,\u001b[0m \u001b[0my_predicted\u001b[0m \u001b[1;32min\u001b[0m \u001b[0mzip\u001b[0m\u001b[1;33m(\u001b[0m\u001b[0marr_y_true\u001b[0m\u001b[1;33m,\u001b[0m \u001b[0marr_y_predicted\u001b[0m\u001b[1;33m)\u001b[0m\u001b[1;33m:\u001b[0m\u001b[1;33m\u001b[0m\u001b[0m\n\u001b[0;32m     34\u001b[0m                 \u001b[0my_true\u001b[0m\u001b[1;33m,\u001b[0m \u001b[0my_predicted\u001b[0m \u001b[1;33m=\u001b[0m \u001b[0my_true\u001b[0m\u001b[1;33m[\u001b[0m\u001b[1;33m:\u001b[0m\u001b[0mm\u001b[0m\u001b[1;33m]\u001b[0m\u001b[1;33m,\u001b[0m \u001b[0my_predicted\u001b[0m\u001b[1;33m[\u001b[0m\u001b[1;33m:\u001b[0m\u001b[0mm\u001b[0m\u001b[1;33m]\u001b[0m\u001b[1;33m\u001b[0m\u001b[0m\n\u001b[1;32m---> 35\u001b[1;33m                 \u001b[0marrMcc\u001b[0m\u001b[1;33m.\u001b[0m\u001b[0mappend\u001b[0m\u001b[1;33m(\u001b[0m\u001b[0mmatthews_corrcoef\u001b[0m\u001b[1;33m(\u001b[0m\u001b[0my_true\u001b[0m\u001b[1;33m,\u001b[0m \u001b[0my_predicted\u001b[0m\u001b[1;33m)\u001b[0m\u001b[1;33m)\u001b[0m\u001b[1;33m\u001b[0m\u001b[0m\n\u001b[0m\u001b[0;32m     36\u001b[0m         \u001b[1;32mreturn\u001b[0m \u001b[0marrMcc\u001b[0m\u001b[1;33m\u001b[0m\u001b[0m\n\u001b[0;32m     37\u001b[0m \u001b[1;33m\u001b[0m\u001b[0m\n",
      "\u001b[1;32mC:\\Users\\raul\\Anaconda3\\lib\\site-packages\\sklearn\\metrics\\classification.py\u001b[0m in \u001b[0;36mmatthews_corrcoef\u001b[1;34m(y_true, y_pred, sample_weight)\u001b[0m\n\u001b[0;32m    498\u001b[0m \u001b[1;33m\u001b[0m\u001b[0m\n\u001b[0;32m    499\u001b[0m     \u001b[1;32mif\u001b[0m \u001b[0my_type\u001b[0m \u001b[1;33m!=\u001b[0m \u001b[1;34m\"binary\"\u001b[0m\u001b[1;33m:\u001b[0m\u001b[1;33m\u001b[0m\u001b[0m\n\u001b[1;32m--> 500\u001b[1;33m         \u001b[1;32mraise\u001b[0m \u001b[0mValueError\u001b[0m\u001b[1;33m(\u001b[0m\u001b[1;34m\"%s is not supported\"\u001b[0m \u001b[1;33m%\u001b[0m \u001b[0my_type\u001b[0m\u001b[1;33m)\u001b[0m\u001b[1;33m\u001b[0m\u001b[0m\n\u001b[0m\u001b[0;32m    501\u001b[0m \u001b[1;33m\u001b[0m\u001b[0m\n\u001b[0;32m    502\u001b[0m     \u001b[0mlb\u001b[0m \u001b[1;33m=\u001b[0m \u001b[0mLabelEncoder\u001b[0m\u001b[1;33m(\u001b[0m\u001b[1;33m)\u001b[0m\u001b[1;33m\u001b[0m\u001b[0m\n",
      "\u001b[1;31mValueError\u001b[0m: multiclass is not supported"
     ]
    }
   ],
   "source": [
    "import sys\n",
    "import os\n",
    "from pathlib import Path\n",
    "os.chdir(Path(os.getcwd()).resolve().parents[3])\n",
    "\n",
    "import setup\n",
    "from methods import runExperiments\n",
    "from methods import static_labelpropagation\n",
    "from methods import amanda_dynamic\n",
    "from methods import amanda_fixed\n",
    "from methods import incremental_LN\n",
    "from methods import deslizante_LN\n",
    "from methods import scargc_1NN\n",
    "\n",
    "\n",
    "class Experiment():\n",
    "     def __init__(self, method, K=None, excludingPercentage=None, densityFunction=None, clfName=None):\n",
    "        self.method = method\n",
    "        self.clfName = clfName\n",
    "        self.densityFunction=densityFunction\n",
    "        self.excludingPercentage = excludingPercentage\n",
    "        self.K_variation = K\n",
    "\n",
    "\n",
    "def main():\n",
    "    experiments = {}\n",
    "    is_windows = sys.platform.startswith('win')\n",
    "    sep = '\\\\'\n",
    "\n",
    "    if is_windows == False:\n",
    "        sep = '/'\n",
    "\n",
    "    path = os.getcwd()+sep+'data'+sep\n",
    "    \n",
    "    # SETTINGS\n",
    "    sslClassifier = 'lp' # lp = label propagation, rf = random forests, cl = cluster and label, knn = k-nn, svm = svm\n",
    "    steps = 100\n",
    "    poolSize = 300\n",
    "    isBatchMode = False # False = Stream\n",
    "    isBinaryClassification = False\n",
    "    isImbalanced = False\n",
    "    externalResults = {}\n",
    "    \n",
    "    # Load dataset\n",
    "    dataValues, dataLabels, description = setup.load4CRE_V1(path, sep)\n",
    "    \n",
    "    # Only 5% of initial labeled data - Extreme verification latency scenario\n",
    "    labeledData = 50 #int(0.05*len(dataLabels))\n",
    "\n",
    "    # Static SSL\n",
    "    experiments[0] = Experiment(static_labelpropagation, 6, clfName=sslClassifier)\n",
    "    \n",
    "    # Sliding SSL\n",
    "    experiments[1] = Experiment(deslizante_LN, 6, clfName=sslClassifier)\n",
    "    \n",
    "    # Incremental SSL\n",
    "    experiments[2] = Experiment(incremental_LN, 6, clfName=sslClassifier)\n",
    "    \n",
    "    # Proposed Method 1 (AMANDA - Fixed core extraction percentage)\n",
    "    experiments[3] = Experiment(amanda_fixed, 6, 0.7, \"kde\", sslClassifier)\n",
    "\n",
    "    # Proposed method 2 (AMANDA - Dynamic core extraction percentage)\n",
    "    experiments[4] = Experiment(amanda_dynamic, 6, None, \"kde\", sslClassifier)\n",
    "\n",
    "    # SCARGC 1NN (Python version)\n",
    "    experiments[5] = Experiment(scargc_1NN, 5) \n",
    "    \n",
    "    # Run experiments\n",
    "    runExperiments.run(dataValues, dataLabels, description, isBinaryClassification, isImbalanced, \n",
    "                       experiments, steps, labeledData, isBatchMode, poolSize, externalResults)\n",
    "    \n",
    "\n",
    "if __name__ == \"__main__\":\n",
    "    main()"
   ]
  }
 ],
 "metadata": {
  "kernelspec": {
   "display_name": "Python 3",
   "language": "python",
   "name": "python3"
  },
  "language_info": {
   "codemirror_mode": {
    "name": "ipython",
    "version": 3
   },
   "file_extension": ".py",
   "mimetype": "text/x-python",
   "name": "python",
   "nbconvert_exporter": "python",
   "pygments_lexer": "ipython3",
   "version": "3.6.1"
  }
 },
 "nbformat": 4,
 "nbformat_minor": 2
}
