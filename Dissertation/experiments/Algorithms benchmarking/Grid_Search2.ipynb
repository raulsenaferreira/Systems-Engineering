{
 "cells": [
  {
   "cell_type": "code",
   "execution_count": null,
   "metadata": {},
   "outputs": [
    {
     "name": "stdout",
     "output_type": "stream",
     "text": [
      "One Class Diagonal Translation. 2 Dimensional data.: 100 batches of 159 instances\n",
      "99.8490566038\n",
      "{'K': 7, 'batches': 100, 'sizeOfBatch': 159}\n",
      "One Class Horizontal Translation. 2 Dimensional data.: 100 batches of 159 instances\n",
      "99.3144654088\n",
      "{'K': 3, 'batches': 100, 'sizeOfBatch': 159}\n",
      "Two Classes Diagonal Translation. 2 Dimensional data: 100 batches of 159 instances\n",
      "Empty array for class  1\n",
      "Empty array for class  1\n"
     ]
    },
    {
     "name": "stderr",
     "output_type": "stream",
     "text": [
      "C:\\Users\\raul\\Anaconda3\\lib\\site-packages\\numpy\\core\\fromnumeric.py:2889: RuntimeWarning: Mean of empty slice.\n",
      "  out=out, **kwargs)\n",
      "C:\\Users\\raul\\Anaconda3\\lib\\site-packages\\numpy\\core\\_methods.py:80: RuntimeWarning: invalid value encountered in double_scalars\n",
      "  ret = ret.dtype.type(ret / rcount)\n"
     ]
    },
    {
     "name": "stdout",
     "output_type": "stream",
     "text": [
      "An error occured in  Two Classes Diagonal Translation. 2 Dimensional data {'K': 2, 'batches': 100, 'sizeOfBatch': 159}\n",
      "An error occured in  Two Classes Diagonal Translation. 2 Dimensional data {'K': 3, 'batches': 100, 'sizeOfBatch': 159}\n",
      "Empty array for class  1\n",
      "Empty array for class  1\n",
      "An error occured in  Two Classes Diagonal Translation. 2 Dimensional data {'K': 4, 'batches': 100, 'sizeOfBatch': 159}\n",
      "An error occured in  Two Classes Diagonal Translation. 2 Dimensional data {'K': 5, 'batches': 100, 'sizeOfBatch': 159}\n",
      "An error occured in  Two Classes Diagonal Translation. 2 Dimensional data {'K': 6, 'batches': 100, 'sizeOfBatch': 159}\n",
      "An error occured in  Two Classes Diagonal Translation. 2 Dimensional data {'K': 7, 'batches': 100, 'sizeOfBatch': 159}\n",
      "An error occured in  Two Classes Diagonal Translation. 2 Dimensional data {'K': 8, 'batches': 100, 'sizeOfBatch': 159}\n",
      "An error occured in  Two Classes Diagonal Translation. 2 Dimensional data {'K': 9, 'batches': 100, 'sizeOfBatch': 159}\n",
      "Empty array for class  1\n",
      "Empty array for class  1\n",
      "An error occured in  Two Classes Diagonal Translation. 2 Dimensional data {'K': 10, 'batches': 100, 'sizeOfBatch': 159}\n",
      "An error occured in  Two Classes Diagonal Translation. 2 Dimensional data {'K': 11, 'batches': 100, 'sizeOfBatch': 159}\n",
      "Empty array for class  1\n",
      "Empty array for class  1\n",
      "An error occured in  Two Classes Diagonal Translation. 2 Dimensional data {'K': 12, 'batches': 100, 'sizeOfBatch': 159}\n",
      "0\n",
      "{}\n",
      "Two Classes Horizontal Translation. 2 Dimensional data.: 100 batches of 159 instances\n",
      "Empty array for class  1\n",
      "Empty array for class  1\n",
      "An error occured in  Two Classes Horizontal Translation. 2 Dimensional data. {'K': 12, 'batches': 100, 'sizeOfBatch': 159}\n",
      "88.0062893082\n",
      "{'K': 8, 'batches': 100, 'sizeOfBatch': 159}\n",
      "Four Classes Rotating Separated. Bidimensional.: 100 batches of 1443 instances\n",
      "An error occured in  Four Classes Rotating Separated. Bidimensional. {'K': 5, 'batches': 100, 'sizeOfBatch': 1443}\n"
     ]
    }
   ],
   "source": [
    "import sys\n",
    "import os\n",
    "import numpy as np\n",
    "from pathlib import Path\n",
    "os.chdir(Path(os.getcwd()).resolve().parents[1])\n",
    "import setup\n",
    "from methods import grid_selection_classifier2\n",
    "from sklearn.model_selection import ParameterGrid\n",
    "\n",
    "\n",
    "\n",
    "def writeResults(datasetID, bestScore, bestParams):\n",
    "    file = open(\"results/gridsearch_selection.txt\",\"a\") \n",
    "    string = \"{}: {} using {} \\n\".format(datasetID, bestScore, bestParams)\n",
    "    file.write(string)\n",
    "    file.close() \n",
    "\n",
    "\n",
    "def main():\n",
    "    is_windows = sys.platform.startswith('win')\n",
    "    sep = '\\\\'\n",
    "    \n",
    "    if is_windows == False:\n",
    "        sep = '/'\n",
    "\n",
    "    path = os.getcwd()+sep+'data'+sep\n",
    "    \n",
    "    #loading sinthetic dataset\n",
    "    datasets = [setup.loadCDT, setup.loadCHT, setup.load2CDT, setup.load2CHT, setup.load4CR, setup.load4CRE_V1, setup.load4CRE_V2, setup.load5CVT, setup.loadCSurr, setup.load4CE1CF, setup.loadUG_2C_2D, setup.loadMG_2C_2D, setup.loadFG_2C_2D, setup.loadUG_2C_3D, setup.loadUG_2C_5D, setup.loadGEARS_2C_2D]\n",
    "    #real datasets\n",
    "    #, setup.loadKeystroke(path, sep), setup.loadCheckerBoard(path, sep), setup.loadNOAADataset(path, sep), setup.loadElecData(path, sep)\n",
    "    batches=100\n",
    "    #testing grid search\n",
    "    for i in range(len(datasets)):\n",
    "        finalScore = 0\n",
    "        best_grid={}\n",
    "        dataValues, dataLabels, description = datasets[i](path, sep)\n",
    "        sizeOfBatch = int((len(dataValues)-50)/batches)\n",
    "        print(\"{}: 100 batches of {} instances\".format(description, sizeOfBatch))\n",
    "        tuned_params = [{\"K\":[2, 3, 4, 5, 6, 7, 8, 9, 10, 11, 12], \"sizeOfBatch\":[sizeOfBatch], \"batches\":[batches]}]\n",
    "        \n",
    "        for g in ParameterGrid(tuned_params):\n",
    "            averageAccuracy=0\n",
    "            gs = grid_selection_classifier2.proposed_gmm_core_extraction_bathacharyya(**g)\n",
    "            try:\n",
    "                gs.fit(dataValues, dataLabels)\n",
    "                averageAccuracy = np.mean(gs.predict())\n",
    "                if finalScore < averageAccuracy:\n",
    "                    finalScore = averageAccuracy\n",
    "                    best_grid = g\n",
    "            except:\n",
    "                print(\"An error occured in \", description, g)\n",
    "        print(finalScore)\n",
    "        print(best_grid)\n",
    "        \n",
    "        writeResults(description, finalScore, best_grid)\n",
    "    \n",
    "if __name__ == \"__main__\":\n",
    "    main()\n"
   ]
  }
 ],
 "metadata": {
  "kernelspec": {
   "display_name": "Python 3",
   "language": "python",
   "name": "python3"
  },
  "language_info": {
   "codemirror_mode": {
    "name": "ipython",
    "version": 3
   },
   "file_extension": ".py",
   "mimetype": "text/x-python",
   "name": "python",
   "nbconvert_exporter": "python",
   "pygments_lexer": "ipython3",
   "version": "3.6.1"
  }
 },
 "nbformat": 4,
 "nbformat_minor": 2
}
